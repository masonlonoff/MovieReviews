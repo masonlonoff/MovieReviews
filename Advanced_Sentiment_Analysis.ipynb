{
 "cells": [
  {
   "attachments": {},
   "cell_type": "markdown",
   "metadata": {},
   "source": [
    "This file will combine **Sentiment Analysis** with **Aspect Extraction** and **Emotional Anlysis**. It will also use **Topic Modeling** to attempt to categorize each review. "
   ]
  },
  {
   "attachments": {},
   "cell_type": "markdown",
   "metadata": {},
   "source": [
    "**Importing** Neccessary **Libraries**"
   ]
  },
  {
   "cell_type": "code",
   "execution_count": 117,
   "metadata": {},
   "outputs": [],
   "source": [
    "import nltk \n",
    "import pandas as pd\n",
    "from nltk.sentiment.vader import SentimentIntensityAnalyzer\n",
    "from collections import Counter\n",
    "from nltk.stem import WordNetLemmatizer\n",
    "from nltk.corpus import stopwords\n",
    "from sklearn.metrics import accuracy_score, classification_report, confusion_matrix\n",
    "from sklearn.feature_extraction.text import TfidfVectorizer\n",
    "from sklearn.decomposition import NMF\n"
   ]
  },
  {
   "attachments": {},
   "cell_type": "markdown",
   "metadata": {},
   "source": [
    "**Downloading** VADER Lexicon"
   ]
  },
  {
   "cell_type": "code",
   "execution_count": 38,
   "metadata": {},
   "outputs": [
    {
     "name": "stderr",
     "output_type": "stream",
     "text": [
      "[nltk_data] Downloading package vader_lexicon to\n",
      "[nltk_data]     C:\\Users\\MasonLonoff\\AppData\\Roaming\\nltk_data...\n",
      "[nltk_data]   Package vader_lexicon is already up-to-date!\n"
     ]
    },
    {
     "data": {
      "text/plain": [
       "True"
      ]
     },
     "execution_count": 38,
     "metadata": {},
     "output_type": "execute_result"
    }
   ],
   "source": [
    "nltk.download('vader_lexicon')"
   ]
  },
  {
   "attachments": {},
   "cell_type": "markdown",
   "metadata": {},
   "source": [
    "**Initializing** Sentiment Intensity Analyzer"
   ]
  },
  {
   "cell_type": "code",
   "execution_count": 39,
   "metadata": {},
   "outputs": [],
   "source": [
    "sid = SentimentIntensityAnalyzer()"
   ]
  },
  {
   "attachments": {},
   "cell_type": "markdown",
   "metadata": {},
   "source": [
    "**Reading** In the Dataset"
   ]
  },
  {
   "cell_type": "code",
   "execution_count": 40,
   "metadata": {},
   "outputs": [
    {
     "data": {
      "text/html": [
       "<div>\n",
       "<style scoped>\n",
       "    .dataframe tbody tr th:only-of-type {\n",
       "        vertical-align: middle;\n",
       "    }\n",
       "\n",
       "    .dataframe tbody tr th {\n",
       "        vertical-align: top;\n",
       "    }\n",
       "\n",
       "    .dataframe thead th {\n",
       "        text-align: right;\n",
       "    }\n",
       "</style>\n",
       "<table border=\"1\" class=\"dataframe\">\n",
       "  <thead>\n",
       "    <tr style=\"text-align: right;\">\n",
       "      <th></th>\n",
       "      <th>review</th>\n",
       "      <th>sentiment</th>\n",
       "    </tr>\n",
       "  </thead>\n",
       "  <tbody>\n",
       "    <tr>\n",
       "      <th>0</th>\n",
       "      <td>One of the other reviewers has mentioned that ...</td>\n",
       "      <td>positive</td>\n",
       "    </tr>\n",
       "    <tr>\n",
       "      <th>1</th>\n",
       "      <td>A wonderful little production. &lt;br /&gt;&lt;br /&gt;The...</td>\n",
       "      <td>positive</td>\n",
       "    </tr>\n",
       "    <tr>\n",
       "      <th>2</th>\n",
       "      <td>I thought this was a wonderful way to spend ti...</td>\n",
       "      <td>positive</td>\n",
       "    </tr>\n",
       "    <tr>\n",
       "      <th>3</th>\n",
       "      <td>Basically there's a family where a little boy ...</td>\n",
       "      <td>negative</td>\n",
       "    </tr>\n",
       "    <tr>\n",
       "      <th>4</th>\n",
       "      <td>Petter Mattei's \"Love in the Time of Money\" is...</td>\n",
       "      <td>positive</td>\n",
       "    </tr>\n",
       "    <tr>\n",
       "      <th>...</th>\n",
       "      <td>...</td>\n",
       "      <td>...</td>\n",
       "    </tr>\n",
       "    <tr>\n",
       "      <th>49995</th>\n",
       "      <td>I thought this movie did a down right good job...</td>\n",
       "      <td>positive</td>\n",
       "    </tr>\n",
       "    <tr>\n",
       "      <th>49996</th>\n",
       "      <td>Bad plot, bad dialogue, bad acting, idiotic di...</td>\n",
       "      <td>negative</td>\n",
       "    </tr>\n",
       "    <tr>\n",
       "      <th>49997</th>\n",
       "      <td>I am a Catholic taught in parochial elementary...</td>\n",
       "      <td>negative</td>\n",
       "    </tr>\n",
       "    <tr>\n",
       "      <th>49998</th>\n",
       "      <td>I'm going to have to disagree with the previou...</td>\n",
       "      <td>negative</td>\n",
       "    </tr>\n",
       "    <tr>\n",
       "      <th>49999</th>\n",
       "      <td>No one expects the Star Trek movies to be high...</td>\n",
       "      <td>negative</td>\n",
       "    </tr>\n",
       "  </tbody>\n",
       "</table>\n",
       "<p>50000 rows × 2 columns</p>\n",
       "</div>"
      ],
      "text/plain": [
       "                                                  review sentiment\n",
       "0      One of the other reviewers has mentioned that ...  positive\n",
       "1      A wonderful little production. <br /><br />The...  positive\n",
       "2      I thought this was a wonderful way to spend ti...  positive\n",
       "3      Basically there's a family where a little boy ...  negative\n",
       "4      Petter Mattei's \"Love in the Time of Money\" is...  positive\n",
       "...                                                  ...       ...\n",
       "49995  I thought this movie did a down right good job...  positive\n",
       "49996  Bad plot, bad dialogue, bad acting, idiotic di...  negative\n",
       "49997  I am a Catholic taught in parochial elementary...  negative\n",
       "49998  I'm going to have to disagree with the previou...  negative\n",
       "49999  No one expects the Star Trek movies to be high...  negative\n",
       "\n",
       "[50000 rows x 2 columns]"
      ]
     },
     "execution_count": 40,
     "metadata": {},
     "output_type": "execute_result"
    }
   ],
   "source": [
    "df = pd.read_csv('IMDB Dataset.csv')\n",
    "df"
   ]
  },
  {
   "attachments": {},
   "cell_type": "markdown",
   "metadata": {},
   "source": [
    "Getting **value counts** of the **actual** sentiments "
   ]
  },
  {
   "cell_type": "code",
   "execution_count": 41,
   "metadata": {},
   "outputs": [
    {
     "data": {
      "text/plain": [
       "positive    25000\n",
       "negative    25000\n",
       "Name: sentiment, dtype: int64"
      ]
     },
     "execution_count": 41,
     "metadata": {},
     "output_type": "execute_result"
    }
   ],
   "source": [
    "df['sentiment'].value_counts()"
   ]
  },
  {
   "attachments": {},
   "cell_type": "markdown",
   "metadata": {},
   "source": [
    "Checking for **Nulls**"
   ]
  },
  {
   "cell_type": "code",
   "execution_count": 42,
   "metadata": {},
   "outputs": [
    {
     "data": {
      "text/plain": [
       "review       0\n",
       "sentiment    0\n",
       "dtype: int64"
      ]
     },
     "execution_count": 42,
     "metadata": {},
     "output_type": "execute_result"
    }
   ],
   "source": [
    "df.isnull().sum()"
   ]
  },
  {
   "attachments": {},
   "cell_type": "markdown",
   "metadata": {},
   "source": [
    "Checking for **Blanks**"
   ]
  },
  {
   "cell_type": "code",
   "execution_count": 43,
   "metadata": {},
   "outputs": [],
   "source": [
    "blanks = []\n",
    "for i, rv, ln in df.itertuples():\n",
    "    if type(rv) == str:\n",
    "        if rv.isspace():\n",
    "            blanks.append(i)"
   ]
  },
  {
   "attachments": {},
   "cell_type": "markdown",
   "metadata": {},
   "source": [
    "**Droppping Blanks** if Needed"
   ]
  },
  {
   "cell_type": "code",
   "execution_count": 44,
   "metadata": {},
   "outputs": [],
   "source": [
    "df.drop(blanks, inplace=True)"
   ]
  },
  {
   "attachments": {},
   "cell_type": "markdown",
   "metadata": {},
   "source": [
    "Creating the **Emotional Lexicon** to be used for the **Emotional Analysis** aspect of the project. For each **Emotion**, there are **Sub-Emotions** that will be counted up by review. These emotion scores will give insights on the **Emotional Aspect** of each review. "
   ]
  },
  {
   "cell_type": "code",
   "execution_count": 45,
   "metadata": {},
   "outputs": [],
   "source": [
    "emotion_lexicon = {\n",
    "    'joy': ['happiness', 'happy', 'ecstasy', 'euphoria', 'glee', 'delight', 'bliss', 'cheerfulness', 'exhilaration', 'elation', 'joy', 'smile', 'laugh', 'upbeat', 'jubilation', 'mirth'],\n",
    "    'sadness': ['grief', 'sorrow', 'heartache', 'desolation', 'melancholy', 'tears', 'anguish', 'regret', 'despair', 'cry', 'depressed', 'mourning', 'bereavement', 'desolation', 'sorrow', 'heartache', 'loss', 'agony', 'grieving', 'tragedy', 'wretched', 'downcast', 'despondent'],\n",
    "    'anger': ['rage', 'outrage', 'fury', 'indignation', 'irritation', 'resentment', 'hostility', 'wrath', 'exasperation', 'angry', 'frustration', 'outraged', 'infuriated', 'irate', 'furious'],\n",
    "    'fear': ['anxiety', 'terror', 'dread', 'apprehension', 'panic', 'unease', 'phobia', 'trepidation', 'horror', 'afraid', 'scared', 'frightened', 'terrified', 'petrified', 'paranoia'],\n",
    "    'surprise': ['astonishment', 'amazement', 'shock', 'awe', 'stunning', 'unexpected', 'startling', 'bewilderment', 'surprised', 'wow', 'astounded', 'stunned', 'flabbergasted', 'jaw-dropping'],\n",
    "    'disgust': ['revulsion', 'abhorrence', 'repulsion', 'contempt', 'dislike', 'displeasure', 'loathing', 'aversion', 'disgusted', 'nausea', 'repelled', 'repugnant', 'horrified', 'appalled'],\n",
    "    'love': ['affection', 'passion', 'devotion', 'admiration', 'intimacy', 'tenderness', 'romance', 'infatuation', 'love', 'caring', 'adoration', 'warmth', 'desire', 'compassion'],\n",
    "    'excitement': ['enthusiasm', 'thrill', 'eagerness', 'anticipation', 'vibrancy', 'exhilaration', 'stimulation', 'excited', 'enthralling', 'passionate', 'electrifying', 'energized', 'enthusiastic'],\n",
    "    'hope': ['optimism', 'aspiration', 'expectation', 'confidence', 'yearning', 'faith', 'positivity', 'hopeful', 'anticipate', 'optimistic', 'dream', 'desire', 'aspiring', 'uplifting'],\n",
    "    'disappointment': ['letdown', 'frustration', 'regret', 'dissatisfaction', 'despondency', 'displeasure', 'disillusionment', 'disappointed', 'let down', 'unfulfilled', 'discouraged', 'heartbroken', 'defeated'],\n",
    "    'nostalgia': ['sentimentality', 'longing', 'remembrance', 'reminiscence', 'wistfulness', 'yearning', 'nostalgic', 'memories'],\n",
    "    'pride': ['satisfaction', 'accomplishment', 'achievement', 'triumph', 'self-esteem', 'confidence', 'proud', 'success'],\n",
    "    'admiration': ['respect', 'appreciation', 'esteem', 'approval', 'awe', 'veneration', 'applause', 'admire', 'respectful'],\n",
    "    'confusion': ['bewilderment', 'puzzlement', 'perplexity', 'uncertainty', 'disorientation', 'mystification', 'confused', 'puzzled'],\n",
    "    'curiosity': ['inquisitiveness', 'intrigue', 'interest', 'wonder', 'fascination', 'desire to explore', 'curious', 'explore']\n",
    "}\n"
   ]
  },
  {
   "attachments": {},
   "cell_type": "markdown",
   "metadata": {},
   "source": [
    "**Extracting Aspects** from the Reviews. This part of the code specifies certain aspects. The code then searches through each review and counts up how many times each aspect is in each review. It returns the top aspect of each review. Aspect extraction was done as an attempt to get a deeper insight on which part of the review was either viewed positively or negatively. "
   ]
  },
  {
   "cell_type": "code",
   "execution_count": 46,
   "metadata": {},
   "outputs": [],
   "source": [
    "def extract_aspects(review):\n",
    "    review_lower = review.lower() \n",
    "    \n",
    "    # Define the aspects and their corresponding scores\n",
    "    aspect_scores = {\n",
    "        'acting': 0,\n",
    "        'performance': 0,\n",
    "        'plot': 0,\n",
    "        'storyline': 0,\n",
    "        'dialogue': 0,\n",
    "        'director': 0,\n",
    "        'direction': 0,\n",
    "        'cinematography': 0,\n",
    "        'writing': 0,\n",
    "        'visual effects': 0,\n",
    "        'special effects': 0,\n",
    "        'soundtrack': 0,\n",
    "        'editing': 0,\n",
    "        'pacing': 0,\n",
    "        'transitions': 0,\n",
    "        'sets': 0,\n",
    "        'costumes': 0,\n",
    "        'props': 0,\n",
    "        'music': 0,\n",
    "        'sound effects': 0,\n",
    "        'originality': 0,\n",
    "        'social issues': 0,\n",
    "        'genre': 0,\n",
    "        'character development': 0,\n",
    "        'production design': 0,\n",
    "        'humor': 0,\n",
    "        'emotional impact': 0,\n",
    "        'ending': 0,\n",
    "        'chemistry': 0,\n",
    "        'performances': 0,\n",
    "        'screenplay': 0,\n",
    "        'action': 0,\n",
    "        'makeup': 0,\n",
    "        'character arc': 0,\n",
    "        'world building': 0,\n",
    "        'twists': 0,\n",
    "        'villain': 0,\n",
    "        'comedy': 0,\n",
    "        'suspense': 0,\n",
    "        'romance': 0,\n",
    "        'set design': 0,\n",
    "        'cinematic experience': 0,\n",
    "        'narrative': 0,\n",
    "        'sequences': 0,\n",
    "        'climax': 0,\n",
    "        'finale': 0,\n",
    "        'theme': 0,\n",
    "        'setting': 0,\n",
    "        'point of view': 0,\n",
    "        'mood': 0,\n",
    "        'symbolism': 0,\n",
    "        'conflict': 0,\n",
    "        'lighting': 0,\n",
    "        'adventure': 0,\n",
    "        'animated': 0,\n",
    "        'drama': 0,\n",
    "        'fantasy': 0,\n",
    "        'historical': 0,\n",
    "        'horror': 0,\n",
    "        'musical': 0,\n",
    "        'science fiction': 0,\n",
    "        'thriller': 0,\n",
    "        'western': 0,\n",
    "        'violence': 0\n",
    "    }\n",
    "\n",
    "\n",
    " # Update the scores based on keyword matching\n",
    "    for aspect in aspect_scores:\n",
    "        if aspect in review_lower:\n",
    "            aspect_scores[aspect] += review_lower.count(aspect)\n",
    "    \n",
    "    # Select the aspect with the highest score\n",
    "    most_common_aspect = max(aspect_scores, key=aspect_scores.get)\n",
    "    \n",
    "    if aspect_scores[most_common_aspect] == 0:\n",
    "        return 'general'\n",
    "\n",
    "    return most_common_aspect"
   ]
  },
  {
   "attachments": {},
   "cell_type": "markdown",
   "metadata": {},
   "source": [
    "Adding the **Aspect Column** that shows the top aspect per review"
   ]
  },
  {
   "cell_type": "code",
   "execution_count": 47,
   "metadata": {},
   "outputs": [],
   "source": [
    "df['aspect'] = df['review'].apply(lambda review: extract_aspects(review))"
   ]
  },
  {
   "attachments": {},
   "cell_type": "markdown",
   "metadata": {},
   "source": [
    "Getting the **Sentiment Scores** "
   ]
  },
  {
   "cell_type": "code",
   "execution_count": 48,
   "metadata": {},
   "outputs": [],
   "source": [
    "# Perform sentiment analysis\n",
    "df['score'] = df['review'].apply(lambda review: sid.polarity_scores(review))"
   ]
  },
  {
   "attachments": {},
   "cell_type": "markdown",
   "metadata": {},
   "source": [
    "Let's check out the new df"
   ]
  },
  {
   "cell_type": "code",
   "execution_count": 49,
   "metadata": {},
   "outputs": [
    {
     "data": {
      "text/html": [
       "<div>\n",
       "<style scoped>\n",
       "    .dataframe tbody tr th:only-of-type {\n",
       "        vertical-align: middle;\n",
       "    }\n",
       "\n",
       "    .dataframe tbody tr th {\n",
       "        vertical-align: top;\n",
       "    }\n",
       "\n",
       "    .dataframe thead th {\n",
       "        text-align: right;\n",
       "    }\n",
       "</style>\n",
       "<table border=\"1\" class=\"dataframe\">\n",
       "  <thead>\n",
       "    <tr style=\"text-align: right;\">\n",
       "      <th></th>\n",
       "      <th>review</th>\n",
       "      <th>sentiment</th>\n",
       "      <th>aspect</th>\n",
       "      <th>score</th>\n",
       "    </tr>\n",
       "  </thead>\n",
       "  <tbody>\n",
       "    <tr>\n",
       "      <th>0</th>\n",
       "      <td>One of the other reviewers has mentioned that ...</td>\n",
       "      <td>positive</td>\n",
       "      <td>violence</td>\n",
       "      <td>{'neg': 0.203, 'neu': 0.748, 'pos': 0.048, 'co...</td>\n",
       "    </tr>\n",
       "    <tr>\n",
       "      <th>1</th>\n",
       "      <td>A wonderful little production. &lt;br /&gt;&lt;br /&gt;The...</td>\n",
       "      <td>positive</td>\n",
       "      <td>editing</td>\n",
       "      <td>{'neg': 0.053, 'neu': 0.776, 'pos': 0.172, 'co...</td>\n",
       "    </tr>\n",
       "    <tr>\n",
       "      <th>2</th>\n",
       "      <td>I thought this was a wonderful way to spend ti...</td>\n",
       "      <td>positive</td>\n",
       "      <td>comedy</td>\n",
       "      <td>{'neg': 0.094, 'neu': 0.714, 'pos': 0.192, 'co...</td>\n",
       "    </tr>\n",
       "    <tr>\n",
       "      <th>3</th>\n",
       "      <td>Basically there's a family where a little boy ...</td>\n",
       "      <td>negative</td>\n",
       "      <td>drama</td>\n",
       "      <td>{'neg': 0.138, 'neu': 0.797, 'pos': 0.065, 'co...</td>\n",
       "    </tr>\n",
       "    <tr>\n",
       "      <th>4</th>\n",
       "      <td>Petter Mattei's \"Love in the Time of Money\" is...</td>\n",
       "      <td>positive</td>\n",
       "      <td>acting</td>\n",
       "      <td>{'neg': 0.052, 'neu': 0.801, 'pos': 0.147, 'co...</td>\n",
       "    </tr>\n",
       "  </tbody>\n",
       "</table>\n",
       "</div>"
      ],
      "text/plain": [
       "                                              review sentiment    aspect  \\\n",
       "0  One of the other reviewers has mentioned that ...  positive  violence   \n",
       "1  A wonderful little production. <br /><br />The...  positive   editing   \n",
       "2  I thought this was a wonderful way to spend ti...  positive    comedy   \n",
       "3  Basically there's a family where a little boy ...  negative     drama   \n",
       "4  Petter Mattei's \"Love in the Time of Money\" is...  positive    acting   \n",
       "\n",
       "                                               score  \n",
       "0  {'neg': 0.203, 'neu': 0.748, 'pos': 0.048, 'co...  \n",
       "1  {'neg': 0.053, 'neu': 0.776, 'pos': 0.172, 'co...  \n",
       "2  {'neg': 0.094, 'neu': 0.714, 'pos': 0.192, 'co...  \n",
       "3  {'neg': 0.138, 'neu': 0.797, 'pos': 0.065, 'co...  \n",
       "4  {'neg': 0.052, 'neu': 0.801, 'pos': 0.147, 'co...  "
      ]
     },
     "execution_count": 49,
     "metadata": {},
     "output_type": "execute_result"
    }
   ],
   "source": [
    "df.head()"
   ]
  },
  {
   "attachments": {},
   "cell_type": "markdown",
   "metadata": {},
   "source": [
    "Pulling out the **Compound** score"
   ]
  },
  {
   "cell_type": "code",
   "execution_count": 50,
   "metadata": {},
   "outputs": [],
   "source": [
    "df['compound'] = df['score'].apply(lambda d:d['compound'])"
   ]
  },
  {
   "attachments": {},
   "cell_type": "markdown",
   "metadata": {},
   "source": [
    "**Dropping** the other scores from the df"
   ]
  },
  {
   "cell_type": "code",
   "execution_count": 51,
   "metadata": {},
   "outputs": [],
   "source": [
    "df.drop(columns='score', inplace=True)"
   ]
  },
  {
   "attachments": {},
   "cell_type": "markdown",
   "metadata": {},
   "source": [
    "Let's check out the df again"
   ]
  },
  {
   "cell_type": "code",
   "execution_count": 52,
   "metadata": {},
   "outputs": [
    {
     "data": {
      "text/html": [
       "<div>\n",
       "<style scoped>\n",
       "    .dataframe tbody tr th:only-of-type {\n",
       "        vertical-align: middle;\n",
       "    }\n",
       "\n",
       "    .dataframe tbody tr th {\n",
       "        vertical-align: top;\n",
       "    }\n",
       "\n",
       "    .dataframe thead th {\n",
       "        text-align: right;\n",
       "    }\n",
       "</style>\n",
       "<table border=\"1\" class=\"dataframe\">\n",
       "  <thead>\n",
       "    <tr style=\"text-align: right;\">\n",
       "      <th></th>\n",
       "      <th>review</th>\n",
       "      <th>sentiment</th>\n",
       "      <th>aspect</th>\n",
       "      <th>compound</th>\n",
       "    </tr>\n",
       "  </thead>\n",
       "  <tbody>\n",
       "    <tr>\n",
       "      <th>0</th>\n",
       "      <td>One of the other reviewers has mentioned that ...</td>\n",
       "      <td>positive</td>\n",
       "      <td>violence</td>\n",
       "      <td>-0.9951</td>\n",
       "    </tr>\n",
       "    <tr>\n",
       "      <th>1</th>\n",
       "      <td>A wonderful little production. &lt;br /&gt;&lt;br /&gt;The...</td>\n",
       "      <td>positive</td>\n",
       "      <td>editing</td>\n",
       "      <td>0.9641</td>\n",
       "    </tr>\n",
       "    <tr>\n",
       "      <th>2</th>\n",
       "      <td>I thought this was a wonderful way to spend ti...</td>\n",
       "      <td>positive</td>\n",
       "      <td>comedy</td>\n",
       "      <td>0.9605</td>\n",
       "    </tr>\n",
       "    <tr>\n",
       "      <th>3</th>\n",
       "      <td>Basically there's a family where a little boy ...</td>\n",
       "      <td>negative</td>\n",
       "      <td>drama</td>\n",
       "      <td>-0.9213</td>\n",
       "    </tr>\n",
       "    <tr>\n",
       "      <th>4</th>\n",
       "      <td>Petter Mattei's \"Love in the Time of Money\" is...</td>\n",
       "      <td>positive</td>\n",
       "      <td>acting</td>\n",
       "      <td>0.9744</td>\n",
       "    </tr>\n",
       "  </tbody>\n",
       "</table>\n",
       "</div>"
      ],
      "text/plain": [
       "                                              review sentiment    aspect  \\\n",
       "0  One of the other reviewers has mentioned that ...  positive  violence   \n",
       "1  A wonderful little production. <br /><br />The...  positive   editing   \n",
       "2  I thought this was a wonderful way to spend ti...  positive    comedy   \n",
       "3  Basically there's a family where a little boy ...  negative     drama   \n",
       "4  Petter Mattei's \"Love in the Time of Money\" is...  positive    acting   \n",
       "\n",
       "   compound  \n",
       "0   -0.9951  \n",
       "1    0.9641  \n",
       "2    0.9605  \n",
       "3   -0.9213  \n",
       "4    0.9744  "
      ]
     },
     "execution_count": 52,
     "metadata": {},
     "output_type": "execute_result"
    }
   ],
   "source": [
    "df.head()"
   ]
  },
  {
   "attachments": {},
   "cell_type": "markdown",
   "metadata": {},
   "source": [
    "Assigning **Positive** and **Negative** labels to each review based on the **Comp_Score**"
   ]
  },
  {
   "cell_type": "code",
   "execution_count": 53,
   "metadata": {},
   "outputs": [],
   "source": [
    "df['comp_score'] = df['compound'].apply(lambda score: 'positive' if score >= 0 else 'negative')"
   ]
  },
  {
   "attachments": {},
   "cell_type": "markdown",
   "metadata": {},
   "source": [
    "Let's examine the df again"
   ]
  },
  {
   "cell_type": "code",
   "execution_count": 54,
   "metadata": {},
   "outputs": [
    {
     "data": {
      "text/html": [
       "<div>\n",
       "<style scoped>\n",
       "    .dataframe tbody tr th:only-of-type {\n",
       "        vertical-align: middle;\n",
       "    }\n",
       "\n",
       "    .dataframe tbody tr th {\n",
       "        vertical-align: top;\n",
       "    }\n",
       "\n",
       "    .dataframe thead th {\n",
       "        text-align: right;\n",
       "    }\n",
       "</style>\n",
       "<table border=\"1\" class=\"dataframe\">\n",
       "  <thead>\n",
       "    <tr style=\"text-align: right;\">\n",
       "      <th></th>\n",
       "      <th>review</th>\n",
       "      <th>sentiment</th>\n",
       "      <th>aspect</th>\n",
       "      <th>compound</th>\n",
       "      <th>comp_score</th>\n",
       "    </tr>\n",
       "  </thead>\n",
       "  <tbody>\n",
       "    <tr>\n",
       "      <th>0</th>\n",
       "      <td>One of the other reviewers has mentioned that ...</td>\n",
       "      <td>positive</td>\n",
       "      <td>violence</td>\n",
       "      <td>-0.9951</td>\n",
       "      <td>negative</td>\n",
       "    </tr>\n",
       "    <tr>\n",
       "      <th>1</th>\n",
       "      <td>A wonderful little production. &lt;br /&gt;&lt;br /&gt;The...</td>\n",
       "      <td>positive</td>\n",
       "      <td>editing</td>\n",
       "      <td>0.9641</td>\n",
       "      <td>positive</td>\n",
       "    </tr>\n",
       "    <tr>\n",
       "      <th>2</th>\n",
       "      <td>I thought this was a wonderful way to spend ti...</td>\n",
       "      <td>positive</td>\n",
       "      <td>comedy</td>\n",
       "      <td>0.9605</td>\n",
       "      <td>positive</td>\n",
       "    </tr>\n",
       "    <tr>\n",
       "      <th>3</th>\n",
       "      <td>Basically there's a family where a little boy ...</td>\n",
       "      <td>negative</td>\n",
       "      <td>drama</td>\n",
       "      <td>-0.9213</td>\n",
       "      <td>negative</td>\n",
       "    </tr>\n",
       "    <tr>\n",
       "      <th>4</th>\n",
       "      <td>Petter Mattei's \"Love in the Time of Money\" is...</td>\n",
       "      <td>positive</td>\n",
       "      <td>acting</td>\n",
       "      <td>0.9744</td>\n",
       "      <td>positive</td>\n",
       "    </tr>\n",
       "  </tbody>\n",
       "</table>\n",
       "</div>"
      ],
      "text/plain": [
       "                                              review sentiment    aspect  \\\n",
       "0  One of the other reviewers has mentioned that ...  positive  violence   \n",
       "1  A wonderful little production. <br /><br />The...  positive   editing   \n",
       "2  I thought this was a wonderful way to spend ti...  positive    comedy   \n",
       "3  Basically there's a family where a little boy ...  negative     drama   \n",
       "4  Petter Mattei's \"Love in the Time of Money\" is...  positive    acting   \n",
       "\n",
       "   compound comp_score  \n",
       "0   -0.9951   negative  \n",
       "1    0.9641   positive  \n",
       "2    0.9605   positive  \n",
       "3   -0.9213   negative  \n",
       "4    0.9744   positive  "
      ]
     },
     "execution_count": 54,
     "metadata": {},
     "output_type": "execute_result"
    }
   ],
   "source": [
    "df.head()"
   ]
  },
  {
   "attachments": {},
   "cell_type": "markdown",
   "metadata": {},
   "source": [
    "Let's check out how **Accurate** our predictions in *comp_score* was"
   ]
  },
  {
   "cell_type": "code",
   "execution_count": 55,
   "metadata": {},
   "outputs": [
    {
     "data": {
      "text/plain": [
       "0.69626"
      ]
     },
     "execution_count": 55,
     "metadata": {},
     "output_type": "execute_result"
    }
   ],
   "source": [
    "accuracy_score(df['sentiment'], df['comp_score'])"
   ]
  },
  {
   "cell_type": "code",
   "execution_count": 56,
   "metadata": {},
   "outputs": [
    {
     "name": "stdout",
     "output_type": "stream",
     "text": [
      "              precision    recall  f1-score   support\n",
      "\n",
      "    negative       0.79      0.54      0.64     25000\n",
      "    positive       0.65      0.86      0.74     25000\n",
      "\n",
      "    accuracy                           0.70     50000\n",
      "   macro avg       0.72      0.70      0.69     50000\n",
      "weighted avg       0.72      0.70      0.69     50000\n",
      "\n"
     ]
    }
   ],
   "source": [
    "print(classification_report(df['sentiment'], df['comp_score']))"
   ]
  },
  {
   "cell_type": "code",
   "execution_count": 57,
   "metadata": {},
   "outputs": [
    {
     "data": {
      "text/plain": [
       "array([[13410, 11590],\n",
       "       [ 3597, 21403]], dtype=int64)"
      ]
     },
     "execution_count": 57,
     "metadata": {},
     "output_type": "execute_result"
    }
   ],
   "source": [
    "confusion_matrix(df['sentiment'], df['comp_score'])"
   ]
  },
  {
   "attachments": {},
   "cell_type": "markdown",
   "metadata": {},
   "source": [
    "Now, we will apply the **Emotional Analysis**. The code below uses the **emotion lexicon** which counts up the number of times that each **emotion** is used in a review. Specifically, it is counting each instance of a **sub-emotion** being used. For example, if **joy=2**, then that means that **2 instances** of its **sub-emotions** was found in that review. "
   ]
  },
  {
   "cell_type": "code",
   "execution_count": 58,
   "metadata": {},
   "outputs": [],
   "source": [
    "# Perform emotion analysis using the custom emotion lexicon\n",
    "for emotion, keywords in emotion_lexicon.items():\n",
    "    df[emotion] = df['review'].apply(lambda review: sum(review.count(keyword) for keyword in keywords))\n"
   ]
  },
  {
   "attachments": {},
   "cell_type": "markdown",
   "metadata": {},
   "source": [
    "Let's check out the df again"
   ]
  },
  {
   "cell_type": "code",
   "execution_count": 59,
   "metadata": {},
   "outputs": [
    {
     "data": {
      "text/html": [
       "<div>\n",
       "<style scoped>\n",
       "    .dataframe tbody tr th:only-of-type {\n",
       "        vertical-align: middle;\n",
       "    }\n",
       "\n",
       "    .dataframe tbody tr th {\n",
       "        vertical-align: top;\n",
       "    }\n",
       "\n",
       "    .dataframe thead th {\n",
       "        text-align: right;\n",
       "    }\n",
       "</style>\n",
       "<table border=\"1\" class=\"dataframe\">\n",
       "  <thead>\n",
       "    <tr style=\"text-align: right;\">\n",
       "      <th></th>\n",
       "      <th>review</th>\n",
       "      <th>sentiment</th>\n",
       "      <th>aspect</th>\n",
       "      <th>compound</th>\n",
       "      <th>comp_score</th>\n",
       "      <th>joy</th>\n",
       "      <th>sadness</th>\n",
       "      <th>anger</th>\n",
       "      <th>fear</th>\n",
       "      <th>surprise</th>\n",
       "      <th>disgust</th>\n",
       "      <th>love</th>\n",
       "      <th>excitement</th>\n",
       "      <th>hope</th>\n",
       "      <th>disappointment</th>\n",
       "      <th>nostalgia</th>\n",
       "      <th>pride</th>\n",
       "      <th>admiration</th>\n",
       "      <th>confusion</th>\n",
       "      <th>curiosity</th>\n",
       "    </tr>\n",
       "  </thead>\n",
       "  <tbody>\n",
       "    <tr>\n",
       "      <th>0</th>\n",
       "      <td>One of the other reviewers has mentioned that ...</td>\n",
       "      <td>positive</td>\n",
       "      <td>violence</td>\n",
       "      <td>-0.9951</td>\n",
       "      <td>negative</td>\n",
       "      <td>0</td>\n",
       "      <td>0</td>\n",
       "      <td>0</td>\n",
       "      <td>0</td>\n",
       "      <td>0</td>\n",
       "      <td>0</td>\n",
       "      <td>1</td>\n",
       "      <td>0</td>\n",
       "      <td>0</td>\n",
       "      <td>0</td>\n",
       "      <td>0</td>\n",
       "      <td>0</td>\n",
       "      <td>0</td>\n",
       "      <td>0</td>\n",
       "      <td>0</td>\n",
       "    </tr>\n",
       "    <tr>\n",
       "      <th>1</th>\n",
       "      <td>A wonderful little production. &lt;br /&gt;&lt;br /&gt;The...</td>\n",
       "      <td>positive</td>\n",
       "      <td>editing</td>\n",
       "      <td>0.9641</td>\n",
       "      <td>positive</td>\n",
       "      <td>0</td>\n",
       "      <td>0</td>\n",
       "      <td>0</td>\n",
       "      <td>0</td>\n",
       "      <td>0</td>\n",
       "      <td>0</td>\n",
       "      <td>0</td>\n",
       "      <td>0</td>\n",
       "      <td>1</td>\n",
       "      <td>0</td>\n",
       "      <td>0</td>\n",
       "      <td>0</td>\n",
       "      <td>0</td>\n",
       "      <td>0</td>\n",
       "      <td>1</td>\n",
       "    </tr>\n",
       "    <tr>\n",
       "      <th>2</th>\n",
       "      <td>I thought this was a wonderful way to spend ti...</td>\n",
       "      <td>positive</td>\n",
       "      <td>comedy</td>\n",
       "      <td>0.9605</td>\n",
       "      <td>positive</td>\n",
       "      <td>1</td>\n",
       "      <td>0</td>\n",
       "      <td>1</td>\n",
       "      <td>0</td>\n",
       "      <td>0</td>\n",
       "      <td>0</td>\n",
       "      <td>1</td>\n",
       "      <td>0</td>\n",
       "      <td>0</td>\n",
       "      <td>1</td>\n",
       "      <td>0</td>\n",
       "      <td>0</td>\n",
       "      <td>0</td>\n",
       "      <td>0</td>\n",
       "      <td>2</td>\n",
       "    </tr>\n",
       "    <tr>\n",
       "      <th>3</th>\n",
       "      <td>Basically there's a family where a little boy ...</td>\n",
       "      <td>negative</td>\n",
       "      <td>drama</td>\n",
       "      <td>-0.9213</td>\n",
       "      <td>negative</td>\n",
       "      <td>0</td>\n",
       "      <td>0</td>\n",
       "      <td>0</td>\n",
       "      <td>0</td>\n",
       "      <td>0</td>\n",
       "      <td>0</td>\n",
       "      <td>0</td>\n",
       "      <td>2</td>\n",
       "      <td>0</td>\n",
       "      <td>0</td>\n",
       "      <td>0</td>\n",
       "      <td>0</td>\n",
       "      <td>0</td>\n",
       "      <td>0</td>\n",
       "      <td>0</td>\n",
       "    </tr>\n",
       "    <tr>\n",
       "      <th>4</th>\n",
       "      <td>Petter Mattei's \"Love in the Time of Money\" is...</td>\n",
       "      <td>positive</td>\n",
       "      <td>acting</td>\n",
       "      <td>0.9744</td>\n",
       "      <td>positive</td>\n",
       "      <td>2</td>\n",
       "      <td>0</td>\n",
       "      <td>0</td>\n",
       "      <td>0</td>\n",
       "      <td>1</td>\n",
       "      <td>0</td>\n",
       "      <td>0</td>\n",
       "      <td>0</td>\n",
       "      <td>0</td>\n",
       "      <td>0</td>\n",
       "      <td>0</td>\n",
       "      <td>1</td>\n",
       "      <td>0</td>\n",
       "      <td>0</td>\n",
       "      <td>0</td>\n",
       "    </tr>\n",
       "  </tbody>\n",
       "</table>\n",
       "</div>"
      ],
      "text/plain": [
       "                                              review sentiment    aspect  \\\n",
       "0  One of the other reviewers has mentioned that ...  positive  violence   \n",
       "1  A wonderful little production. <br /><br />The...  positive   editing   \n",
       "2  I thought this was a wonderful way to spend ti...  positive    comedy   \n",
       "3  Basically there's a family where a little boy ...  negative     drama   \n",
       "4  Petter Mattei's \"Love in the Time of Money\" is...  positive    acting   \n",
       "\n",
       "   compound comp_score  joy  sadness  anger  fear  surprise  disgust  love  \\\n",
       "0   -0.9951   negative    0        0      0     0         0        0     1   \n",
       "1    0.9641   positive    0        0      0     0         0        0     0   \n",
       "2    0.9605   positive    1        0      1     0         0        0     1   \n",
       "3   -0.9213   negative    0        0      0     0         0        0     0   \n",
       "4    0.9744   positive    2        0      0     0         1        0     0   \n",
       "\n",
       "   excitement  hope  disappointment  nostalgia  pride  admiration  confusion  \\\n",
       "0           0     0               0          0      0           0          0   \n",
       "1           0     1               0          0      0           0          0   \n",
       "2           0     0               1          0      0           0          0   \n",
       "3           2     0               0          0      0           0          0   \n",
       "4           0     0               0          0      1           0          0   \n",
       "\n",
       "   curiosity  \n",
       "0          0  \n",
       "1          1  \n",
       "2          2  \n",
       "3          0  \n",
       "4          0  "
      ]
     },
     "execution_count": 59,
     "metadata": {},
     "output_type": "execute_result"
    }
   ],
   "source": [
    "df.head()"
   ]
  },
  {
   "attachments": {},
   "cell_type": "markdown",
   "metadata": {},
   "source": [
    "Let's examine how the different aspects were assigned"
   ]
  },
  {
   "cell_type": "code",
   "execution_count": 60,
   "metadata": {},
   "outputs": [
    {
     "data": {
      "text/plain": [
       "general              8608\n",
       "acting               7804\n",
       "plot                 5539\n",
       "performance          3996\n",
       "director             3221\n",
       "                     ... \n",
       "social issues           9\n",
       "set design              8\n",
       "production design       7\n",
       "transitions             5\n",
       "character arc           2\n",
       "Name: aspect, Length: 61, dtype: int64"
      ]
     },
     "execution_count": 60,
     "metadata": {},
     "output_type": "execute_result"
    }
   ],
   "source": [
    "df.aspect.value_counts()"
   ]
  },
  {
   "attachments": {},
   "cell_type": "markdown",
   "metadata": {},
   "source": [
    "## Topic Modeling"
   ]
  },
  {
   "attachments": {},
   "cell_type": "markdown",
   "metadata": {},
   "source": [
    "To begin **Topic Modeling**, we need to create a list of **stopwords**. I utilized the existing NLTK stopword library and my own custom **stopword** list."
   ]
  },
  {
   "cell_type": "code",
   "execution_count": 126,
   "metadata": {},
   "outputs": [
    {
     "name": "stderr",
     "output_type": "stream",
     "text": [
      "[nltk_data] Downloading package wordnet to\n",
      "[nltk_data]     C:\\Users\\MasonLonoff\\AppData\\Roaming\\nltk_data...\n",
      "[nltk_data]   Package wordnet is already up-to-date!\n",
      "[nltk_data] Downloading package stopwords to\n",
      "[nltk_data]     C:\\Users\\MasonLonoff\\AppData\\Roaming\\nltk_data...\n",
      "[nltk_data]   Package stopwords is already up-to-date!\n"
     ]
    }
   ],
   "source": [
    "nltk.download('wordnet')\n",
    "nltk.download('stopwords')\n",
    "\n",
    "\n",
    "# Get the default English stopwords from nltk\n",
    "default_stopwords = set(nltk.corpus.stopwords.words('english'))\n",
    "\n",
    "# Define your custom stopwords\n",
    "custom_stopwords = ['10', 've', 'll', 'br', 'wa', 'ha']\n",
    "\n",
    "# Combine custom stopwords with default English stopwords\n",
    "stopwords = default_stopwords.union(custom_stopwords)"
   ]
  },
  {
   "attachments": {},
   "cell_type": "markdown",
   "metadata": {},
   "source": [
    "The custom stop word list was created through trial and error. Upon seeing the topics that were outputted below, some of the words were introducing noise and hurting its interpretability. I removed them through different iterations of running the model."
   ]
  },
  {
   "attachments": {},
   "cell_type": "markdown",
   "metadata": {},
   "source": [
    "**Initializes** the TF-IDF vectorizer with certain parameters:\n",
    "- max_df = 0.95: Words occurring in more than 95% of the documents should be ignored\n",
    "- min_df = 2: Minimum amount of documents a word needs to appear in to be included in the analysis\n",
    "- stop_words = stopwords: The list of stopwords that was calculated above"
   ]
  },
  {
   "cell_type": "code",
   "execution_count": 98,
   "metadata": {},
   "outputs": [],
   "source": [
    "tfidf = TfidfVectorizer(max_df=0.95, min_df=2, stop_words=stopwords)"
   ]
  },
  {
   "attachments": {},
   "cell_type": "markdown",
   "metadata": {},
   "source": [
    " **Downloading** the neccessary resources for **lemmatization** from NLTK. **Initializing** and applying the **lemmatizer**. "
   ]
  },
  {
   "cell_type": "code",
   "execution_count": 123,
   "metadata": {},
   "outputs": [
    {
     "name": "stderr",
     "output_type": "stream",
     "text": [
      "[nltk_data] Downloading package wordnet to\n",
      "[nltk_data]     C:\\Users\\MasonLonoff\\AppData\\Roaming\\nltk_data...\n",
      "[nltk_data]   Package wordnet is already up-to-date!\n"
     ]
    }
   ],
   "source": [
    "nltk.download('wordnet')\n",
    "\n",
    "# Lemmatize the text data\n",
    "lemmatizer = WordNetLemmatizer()\n",
    "df['lemmatized_review'] = df['review'].apply(lambda x: ' '.join([lemmatizer.lemmatize(word) for word in x.split()]))"
   ]
  },
  {
   "attachments": {},
   "cell_type": "markdown",
   "metadata": {},
   "source": [
    "Applying TF-IDF Vectorization on the reviews"
   ]
  },
  {
   "cell_type": "code",
   "execution_count": 90,
   "metadata": {},
   "outputs": [],
   "source": [
    "dtm = tfidf.fit_transform(df['lemmatized_review'])"
   ]
  },
  {
   "attachments": {},
   "cell_type": "markdown",
   "metadata": {},
   "source": [
    "**Instantiating** the **Non-Negative Matrix**"
   ]
  },
  {
   "cell_type": "code",
   "execution_count": 91,
   "metadata": {},
   "outputs": [],
   "source": [
    "nmf = NMF(n_components=6, random_state=42)\n",
    "# 6 different topics"
   ]
  },
  {
   "attachments": {},
   "cell_type": "markdown",
   "metadata": {},
   "source": [
    "**Fitting** the NMF"
   ]
  },
  {
   "cell_type": "code",
   "execution_count": 92,
   "metadata": {},
   "outputs": [
    {
     "name": "stderr",
     "output_type": "stream",
     "text": [
      "c:\\Users\\MasonLonoff\\anaconda3\\lib\\site-packages\\sklearn\\decomposition\\_nmf.py:289: FutureWarning: The 'init' value, when 'init=None' and n_components is less than n_samples and n_features, will be changed from 'nndsvd' to 'nndsvda' in 1.1 (renaming of 0.26).\n",
      "  warnings.warn(\n",
      "c:\\Users\\MasonLonoff\\anaconda3\\lib\\site-packages\\sklearn\\decomposition\\_nmf.py:1637: ConvergenceWarning: Maximum number of iterations 200 reached. Increase it to improve convergence.\n",
      "  warnings.warn(\n"
     ]
    },
    {
     "data": {
      "text/plain": [
       "NMF(n_components=6, random_state=42)"
      ]
     },
     "execution_count": 92,
     "metadata": {},
     "output_type": "execute_result"
    }
   ],
   "source": [
    "nmf.fit(dtm)"
   ]
  },
  {
   "attachments": {},
   "cell_type": "markdown",
   "metadata": {},
   "source": [
    "Printing out the **Top 15** words for each topic"
   ]
  },
  {
   "cell_type": "code",
   "execution_count": 80,
   "metadata": {},
   "outputs": [
    {
     "name": "stderr",
     "output_type": "stream",
     "text": [
      "c:\\Users\\MasonLonoff\\anaconda3\\lib\\site-packages\\sklearn\\utils\\deprecation.py:87: FutureWarning: Function get_feature_names is deprecated; get_feature_names is deprecated in 1.0 and will be removed in 1.2. Please use get_feature_names_out instead.\n",
      "  warnings.warn(msg, category=FutureWarning)\n"
     ]
    },
    {
     "name": "stdout",
     "output_type": "stream",
     "text": [
      "The top 15 words for index # 0:\n",
      "['make', 'girl', 'take', 'way', 'scene', 'time', 'go', 'people', 'two', 'woman', 'like', 'man', 'life', 'get', 'one']\n",
      "\n",
      "\n",
      "The top 15 words for index # 1:\n",
      "['movies', 'one', 'made', 'watching', 'people', 'saw', 'ever', 'time', 'think', 'would', 'seen', 'like', 'see', 'watch', 'movie']\n",
      "\n",
      "\n",
      "The top 15 words for index # 2:\n",
      "['see', 'people', 'first', 'television', 'would', 'watching', 'think', 'like', 'watch', 'funny', 'tv', 'season', 'series', 'episode', 'show']\n",
      "\n",
      "\n",
      "The top 15 words for index # 3:\n",
      "['waste', 'script', 'one', 'guy', 'awful', 'like', 'terrible', 'horror', 'plot', 'really', 'even', 'worst', 'good', 'acting', 'bad']\n",
      "\n",
      "\n",
      "The top 15 words for index # 4:\n",
      "['many', 'one', 'make', 'ever', 'director', 'like', 'saw', 'time', 'watch', 'would', 'films', 'made', 'seen', 'see', 'film']\n",
      "\n",
      "\n",
      "The top 15 words for index # 5:\n",
      "['excellent', 'book', 'also', 'role', 'cast', 'love', 'performance', 'best', 'really', 'actor', 'well', 'character', 'good', 'story', 'great']\n",
      "\n",
      "\n"
     ]
    }
   ],
   "source": [
    "for index, topic in enumerate(nmf.components_):\n",
    "    print(f'The top 15 words for index # {index}:')\n",
    "    print([tfidf.get_feature_names()[index] for index in topic.argsort()[-15:]])\n",
    "    print('\\n')"
   ]
  },
  {
   "attachments": {},
   "cell_type": "markdown",
   "metadata": {},
   "source": [
    "Giving each topic a name and then applying it to each review"
   ]
  },
  {
   "cell_type": "code",
   "execution_count": 93,
   "metadata": {},
   "outputs": [
    {
     "data": {
      "text/html": [
       "<div>\n",
       "<style scoped>\n",
       "    .dataframe tbody tr th:only-of-type {\n",
       "        vertical-align: middle;\n",
       "    }\n",
       "\n",
       "    .dataframe tbody tr th {\n",
       "        vertical-align: top;\n",
       "    }\n",
       "\n",
       "    .dataframe thead th {\n",
       "        text-align: right;\n",
       "    }\n",
       "</style>\n",
       "<table border=\"1\" class=\"dataframe\">\n",
       "  <thead>\n",
       "    <tr style=\"text-align: right;\">\n",
       "      <th></th>\n",
       "      <th>review</th>\n",
       "      <th>sentiment</th>\n",
       "      <th>aspect</th>\n",
       "      <th>compound</th>\n",
       "      <th>comp_score</th>\n",
       "      <th>joy</th>\n",
       "      <th>sadness</th>\n",
       "      <th>anger</th>\n",
       "      <th>fear</th>\n",
       "      <th>surprise</th>\n",
       "      <th>...</th>\n",
       "      <th>excitement</th>\n",
       "      <th>hope</th>\n",
       "      <th>disappointment</th>\n",
       "      <th>nostalgia</th>\n",
       "      <th>pride</th>\n",
       "      <th>admiration</th>\n",
       "      <th>confusion</th>\n",
       "      <th>curiosity</th>\n",
       "      <th>topic</th>\n",
       "      <th>lemmatized_review</th>\n",
       "    </tr>\n",
       "  </thead>\n",
       "  <tbody>\n",
       "    <tr>\n",
       "      <th>0</th>\n",
       "      <td>One of the other reviewer ha mentioned that af...</td>\n",
       "      <td>positive</td>\n",
       "      <td>violence</td>\n",
       "      <td>-0.9951</td>\n",
       "      <td>negative</td>\n",
       "      <td>0</td>\n",
       "      <td>0</td>\n",
       "      <td>0</td>\n",
       "      <td>0</td>\n",
       "      <td>0</td>\n",
       "      <td>...</td>\n",
       "      <td>0</td>\n",
       "      <td>0</td>\n",
       "      <td>0</td>\n",
       "      <td>0</td>\n",
       "      <td>0</td>\n",
       "      <td>0</td>\n",
       "      <td>0</td>\n",
       "      <td>0</td>\n",
       "      <td>TV Shows</td>\n",
       "      <td>One of the other reviewer ha mentioned that af...</td>\n",
       "    </tr>\n",
       "    <tr>\n",
       "      <th>1</th>\n",
       "      <td>A wonderful little production. &lt;br /&gt;&lt;br /&gt;The...</td>\n",
       "      <td>positive</td>\n",
       "      <td>editing</td>\n",
       "      <td>0.9641</td>\n",
       "      <td>positive</td>\n",
       "      <td>0</td>\n",
       "      <td>0</td>\n",
       "      <td>0</td>\n",
       "      <td>0</td>\n",
       "      <td>0</td>\n",
       "      <td>...</td>\n",
       "      <td>0</td>\n",
       "      <td>1</td>\n",
       "      <td>0</td>\n",
       "      <td>0</td>\n",
       "      <td>0</td>\n",
       "      <td>0</td>\n",
       "      <td>0</td>\n",
       "      <td>1</td>\n",
       "      <td>Performances and Storytelling</td>\n",
       "      <td>A wonderful little production. &lt;br /&gt;&lt;br /&gt;The...</td>\n",
       "    </tr>\n",
       "    <tr>\n",
       "      <th>2</th>\n",
       "      <td>I thought this wa a wonderful way to spend tim...</td>\n",
       "      <td>positive</td>\n",
       "      <td>comedy</td>\n",
       "      <td>0.9605</td>\n",
       "      <td>positive</td>\n",
       "      <td>1</td>\n",
       "      <td>0</td>\n",
       "      <td>1</td>\n",
       "      <td>0</td>\n",
       "      <td>0</td>\n",
       "      <td>...</td>\n",
       "      <td>0</td>\n",
       "      <td>0</td>\n",
       "      <td>1</td>\n",
       "      <td>0</td>\n",
       "      <td>0</td>\n",
       "      <td>0</td>\n",
       "      <td>0</td>\n",
       "      <td>2</td>\n",
       "      <td>Performances and Storytelling</td>\n",
       "      <td>I thought this wa a wonderful way to spend tim...</td>\n",
       "    </tr>\n",
       "    <tr>\n",
       "      <th>3</th>\n",
       "      <td>Basically there's a family where a little boy ...</td>\n",
       "      <td>negative</td>\n",
       "      <td>drama</td>\n",
       "      <td>-0.9213</td>\n",
       "      <td>negative</td>\n",
       "      <td>0</td>\n",
       "      <td>0</td>\n",
       "      <td>0</td>\n",
       "      <td>0</td>\n",
       "      <td>0</td>\n",
       "      <td>...</td>\n",
       "      <td>2</td>\n",
       "      <td>0</td>\n",
       "      <td>0</td>\n",
       "      <td>0</td>\n",
       "      <td>0</td>\n",
       "      <td>0</td>\n",
       "      <td>0</td>\n",
       "      <td>0</td>\n",
       "      <td>General Watching Experience</td>\n",
       "      <td>Basically there's a family where a little boy ...</td>\n",
       "    </tr>\n",
       "    <tr>\n",
       "      <th>4</th>\n",
       "      <td>Petter Mattei's \"Love in the Time of Money\" is...</td>\n",
       "      <td>positive</td>\n",
       "      <td>acting</td>\n",
       "      <td>0.9744</td>\n",
       "      <td>positive</td>\n",
       "      <td>2</td>\n",
       "      <td>0</td>\n",
       "      <td>0</td>\n",
       "      <td>0</td>\n",
       "      <td>1</td>\n",
       "      <td>...</td>\n",
       "      <td>0</td>\n",
       "      <td>0</td>\n",
       "      <td>0</td>\n",
       "      <td>0</td>\n",
       "      <td>1</td>\n",
       "      <td>0</td>\n",
       "      <td>0</td>\n",
       "      <td>0</td>\n",
       "      <td>Relationships and Life</td>\n",
       "      <td>Petter Mattei's \"Love in the Time of Money\" is...</td>\n",
       "    </tr>\n",
       "  </tbody>\n",
       "</table>\n",
       "<p>5 rows × 22 columns</p>\n",
       "</div>"
      ],
      "text/plain": [
       "                                              review sentiment    aspect  \\\n",
       "0  One of the other reviewer ha mentioned that af...  positive  violence   \n",
       "1  A wonderful little production. <br /><br />The...  positive   editing   \n",
       "2  I thought this wa a wonderful way to spend tim...  positive    comedy   \n",
       "3  Basically there's a family where a little boy ...  negative     drama   \n",
       "4  Petter Mattei's \"Love in the Time of Money\" is...  positive    acting   \n",
       "\n",
       "   compound comp_score  joy  sadness  anger  fear  surprise  ...  excitement  \\\n",
       "0   -0.9951   negative    0        0      0     0         0  ...           0   \n",
       "1    0.9641   positive    0        0      0     0         0  ...           0   \n",
       "2    0.9605   positive    1        0      1     0         0  ...           0   \n",
       "3   -0.9213   negative    0        0      0     0         0  ...           2   \n",
       "4    0.9744   positive    2        0      0     0         1  ...           0   \n",
       "\n",
       "   hope  disappointment  nostalgia  pride  admiration  confusion  curiosity  \\\n",
       "0     0               0          0      0           0          0          0   \n",
       "1     1               0          0      0           0          0          1   \n",
       "2     0               1          0      0           0          0          2   \n",
       "3     0               0          0      0           0          0          0   \n",
       "4     0               0          0      1           0          0          0   \n",
       "\n",
       "                           topic  \\\n",
       "0                       TV Shows   \n",
       "1  Performances and Storytelling   \n",
       "2  Performances and Storytelling   \n",
       "3    General Watching Experience   \n",
       "4         Relationships and Life   \n",
       "\n",
       "                                   lemmatized_review  \n",
       "0  One of the other reviewer ha mentioned that af...  \n",
       "1  A wonderful little production. <br /><br />The...  \n",
       "2  I thought this wa a wonderful way to spend tim...  \n",
       "3  Basically there's a family where a little boy ...  \n",
       "4  Petter Mattei's \"Love in the Time of Money\" is...  \n",
       "\n",
       "[5 rows x 22 columns]"
      ]
     },
     "execution_count": 93,
     "metadata": {},
     "output_type": "execute_result"
    }
   ],
   "source": [
    "# Get the topic distributions for each review\n",
    "topic_distributions = nmf.transform(dtm)\n",
    "\n",
    "# Define the topic names\n",
    "topic_names = [\n",
    "    'Relationships and Life',\n",
    "    'General Watching Experience',\n",
    "    'TV Shows',\n",
    "    'Criticism',\n",
    "    'Filmmaking and Film Appreciation',\n",
    "    'Performances and Storytelling'\n",
    "]\n",
    "\n",
    "# Assign each review to its related topic\n",
    "assigned_topics = topic_distributions.argmax(axis=1)\n",
    "\n",
    "# Map topic indices to topic names\n",
    "topic_mapping = {idx: topic_names[idx] for idx in range(len(topic_names))}\n",
    "\n",
    "# Replace numeric topic values with topic names\n",
    "df['topic'] = [topic_mapping[idx] for idx in assigned_topics]\n",
    "\n",
    "df.head()"
   ]
  },
  {
   "attachments": {},
   "cell_type": "markdown",
   "metadata": {},
   "source": [
    "### Next Steps:\n",
    "\n",
    "Our accuracy scores leaves a lot of room for improvement. I would need to try out different models to test how accurate each model is. I would want to experiment with Logistic Regression models, Support Vector Machines, Naive Bayes models and more. "
   ]
  }
 ],
 "metadata": {
  "kernelspec": {
   "display_name": "base",
   "language": "python",
   "name": "python3"
  },
  "language_info": {
   "codemirror_mode": {
    "name": "ipython",
    "version": 3
   },
   "file_extension": ".py",
   "mimetype": "text/x-python",
   "name": "python",
   "nbconvert_exporter": "python",
   "pygments_lexer": "ipython3",
   "version": "3.9.13"
  },
  "orig_nbformat": 4
 },
 "nbformat": 4,
 "nbformat_minor": 2
}
